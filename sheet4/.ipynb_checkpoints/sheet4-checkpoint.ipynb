{
 "cells": [
  {
   "cell_type": "markdown",
   "metadata": {},
   "source": [
    "## ILAS - Data Mining (summer 2019) - Assignment 4\n",
    "#### by Andreas Hene, Niklas Mertens, Richard Palme"
   ]
  },
  {
   "cell_type": "code",
   "execution_count": 1,
   "metadata": {},
   "outputs": [],
   "source": [
    "import time\n",
    "import math\n",
    "\n",
    "import sympy\n",
    "import pandas\n",
    "import numpy as np\n",
    "import matplotlib.pyplot as plt"
   ]
  },
  {
   "cell_type": "markdown",
   "metadata": {},
   "source": [
    "First we write a function `get_repr` that returns the representative of an element val of [n] in the dyadic interval of level `lvl`. The representative is always chosen to be the smallest element of the dyadic array.\n",
    "$$ \\text{val} = j \\cdot 2^{h-\\text{lvl}} + \\text{rest} $$\n",
    "If rest >= 1, the representative can be computed by\n",
    "$$ j \\cdot 2^{h-\\text{lvl}} + 1 $$\n",
    "If rest == 0, the representative can be computed by\n",
    "$$ (j-1) \\cdot 2^{h - \\text{lvl}} + 1 $$"
   ]
  },
  {
   "cell_type": "code",
   "execution_count": 2,
   "metadata": {},
   "outputs": [],
   "source": [
    "def get_repr(val, lvl, h):\n",
    "    j, rest = np.divmod(val, 2**(h - lvl))\n",
    "    if rest >= 1:\n",
    "        return val - rest + 1\n",
    "    return val - 2**(h-lvl) + 1"
   ]
  },
  {
   "cell_type": "markdown",
   "metadata": {},
   "source": [
    "Next we write a function `get_children` that returns the children dyadic intervals of a representative `u`. The intervals are again given by their representative. The children of `u` are `u` and\n",
    "$$ (j+1) \\cdot 2^{h-(\\text{lvl} + 1)} + 1$$"
   ]
  },
  {
   "cell_type": "code",
   "execution_count": 3,
   "metadata": {},
   "outputs": [],
   "source": [
    "def get_children(u, lvl, h):\n",
    "    if lvl == h:\n",
    "        return [u]\n",
    "    j = math.floor(u / 2**(h - lvl))\n",
    "    return [u, u + 2**(h - (lvl+1))]"
   ]
  },
  {
   "cell_type": "code",
   "execution_count": 4,
   "metadata": {},
   "outputs": [],
   "source": [
    "def base_p(u, p, size):\n",
    "    res = np.zeros(size, dtype=np.int16)\n",
    "    i = 0\n",
    "    while u != 0:\n",
    "        u, r = np.divmod(u, p)\n",
    "        res[i] = r\n",
    "        i += 1\n",
    "    return res\n",
    "\n",
    "def _hashfunc(u, a, b, p, k):\n",
    "    return (np.dot(a, base_p(u, p, k)) + b) % p\n"
   ]
  },
  {
   "cell_type": "code",
   "execution_count": 5,
   "metadata": {},
   "outputs": [
    {
     "name": "stdout",
     "output_type": "stream",
     "text": [
      "1 2 0 0 1 2 2 0 1 "
     ]
    }
   ],
   "source": [
    "for u in range(9):\n",
    "    print(_hashfunc(u, [1, 2], 1, p=3, k=2), end=' ')"
   ]
  },
  {
   "cell_type": "code",
   "execution_count": 6,
   "metadata": {},
   "outputs": [],
   "source": [
    "def print_hashfuncs(hashfuncs, n):\n",
    "    for u in range(n):\n",
    "        print(u, end=' ')\n",
    "    print('\\n')\n",
    "    for hashfunc in hashfuncs:\n",
    "        for u in range(n):\n",
    "            print(hashfunc(u), end=' ')\n",
    "        print()"
   ]
  },
  {
   "cell_type": "code",
   "execution_count": 23,
   "metadata": {},
   "outputs": [],
   "source": [
    "def count_min_sketch(filepath, eps, delta, n, threshold):\n",
    "    d = math.ceil(math.log(1.0 / delta, 2))\n",
    "    w = math.ceil(2.0 / eps)\n",
    "    \n",
    "    # find a prime p with p >= w\n",
    "    p = w\n",
    "    while not sympy.isprime(p):\n",
    "        p += 1\n",
    "    \n",
    "    # choose k such that p^k - 1 >= n\n",
    "    # i.e. k >= log(n+1, p)\n",
    "    k = math.ceil(math.log(n+1, p))\n",
    "\n",
    "    hashfuncs = []\n",
    "    for _ in range(d):\n",
    "        a = np.asarray([np.random.randint(p) for _ in range(k)])\n",
    "        b = np.random.randint(p)\n",
    "        hashfuncs.append(lambda u, a=a, b=b: _hashfunc(u, a, b, p, k))\n",
    "    print_hashfuncs(hashfuncs, n)\n",
    "\n",
    "    h = math.ceil(math.log(n, 2))\n",
    "    \n",
    "    print('eps', eps, 'delta', delta, '\\n',\n",
    "          'n', n, 'threshold', threshold, '\\n',\n",
    "          'd', d, 'w', w, '\\n',\n",
    "          'p', p, 'k', k, 'h', h)\n",
    "    \n",
    "    # note that, since w isn't necessarily a prime number,\n",
    "    # we might have to make w larger (i.e. take p instead of w)\n",
    "    C = np.zeros((h+1, d, p), dtype=np.int32)\n",
    "    \n",
    "    # dtype is int16, so 2 bytes. chunksize is 5*10**5,\n",
    "    # so one chunk is exactly 1 MB and\n",
    "    # should fit comfortably into cache.\n",
    "    chunks = pandas.read_csv(\n",
    "        filepath,\n",
    "        header=None,\n",
    "        skiprows=3,\n",
    "        squeeze=True,\n",
    "        dtype=np.int16,\n",
    "        delim_whitespace=True,\n",
    "        chunksize=5*10**5\n",
    "    )\n",
    "    tmp = 0\n",
    "    # process the stream. Each chunk is of type pandas.series\n",
    "    for chunk in chunks:\n",
    "        for x in chunk:\n",
    "            if x == 0:\n",
    "                continue\n",
    "            tmp += 1\n",
    "            for lvl in range(h+1):\n",
    "                u = get_repr(x, lvl, h)\n",
    "                if lvl == 0 and (tmp % 10000) == 0:\n",
    "                    print(C[lvl, :, :])\n",
    "                for i, hashfunc in enumerate(hashfuncs):\n",
    "                    C[(lvl, i, hashfunc(u))] += 1\n",
    "    \n",
    "    # now we do BFS. the values in explore_current are\n",
    "    # the representatives of the dyadic arrays that\n",
    "    # currently get explored on this level.\n",
    "    explore_current = [1]\n",
    "    explore_next = []\n",
    "    hash_values = np.zeros(d, dtype=np.int32)\n",
    "    for lvl in range(h + 1):\n",
    "        print(explore_current)\n",
    "        for u in explore_current:\n",
    "            for i, hashfunc in enumerate(hashfuncs):\n",
    "                hash_values[i] = C[(lvl, i, hashfunc(u))]\n",
    "            if hash_values.min() >= threshold:\n",
    "                explore_next.extend(get_children(u, lvl, h))\n",
    "        explore_current = explore_next\n",
    "        explore_next = []\n",
    "        \n",
    "    # prepare the output:\n",
    "    approx_frequency = []\n",
    "    for u in explore_current:\n",
    "        for i, hashfunc in enumerate(hashfuncs):\n",
    "            hash_values[i] = C[(h, i, hashfunc(u))]\n",
    "        approx_frequency.append(hash_values.min())\n",
    "        \n",
    "    return explore_current, approx_frequency"
   ]
  },
  {
   "cell_type": "code",
   "execution_count": 24,
   "metadata": {},
   "outputs": [
    {
     "name": "stdout",
     "output_type": "stream",
     "text": [
      "0 1 2 3 4 5 6 7 8 9 10 11 \n",
      "\n",
      "2 0 3 1 4 2 0 3 1 4 2 0 \n",
      "4 2 0 3 1 3 1 4 2 0 2 0 \n",
      "1 0 4 3 2 1 0 4 3 2 1 0 \n",
      "2 1 0 4 3 3 2 1 0 4 4 3 \n",
      "eps 0.6 delta 0.1 \n",
      " n 12 threshold 30000 \n",
      " d 4 w 4 \n",
      " p 5 k 2 h 4\n",
      "[[9999    0    0    0    0]\n",
      " [   0    0 9999    0    0]\n",
      " [9999    0    0    0    0]\n",
      " [   0 9999    0    0    0]]\n",
      "[[19999     0     0     0     0]\n",
      " [    0     0 19999     0     0]\n",
      " [19999     0     0     0     0]\n",
      " [    0 19999     0     0     0]]\n",
      "[[29999     0     0     0     0]\n",
      " [    0     0 29999     0     0]\n",
      " [29999     0     0     0     0]\n",
      " [    0 29999     0     0     0]]\n",
      "[[39999     0     0     0     0]\n",
      " [    0     0 39999     0     0]\n",
      " [39999     0     0     0     0]\n",
      " [    0 39999     0     0     0]]\n",
      "[[49999     0     0     0     0]\n",
      " [    0     0 49999     0     0]\n",
      " [49999     0     0     0     0]\n",
      " [    0 49999     0     0     0]]\n",
      "[[59999     0     0     0     0]\n",
      " [    0     0 59999     0     0]\n",
      " [59999     0     0     0     0]\n",
      " [    0 59999     0     0     0]]\n",
      "[[69999     0     0     0     0]\n",
      " [    0     0 69999     0     0]\n",
      " [69999     0     0     0     0]\n",
      " [    0 69999     0     0     0]]\n",
      "[[79999     0     0     0     0]\n",
      " [    0     0 79999     0     0]\n",
      " [79999     0     0     0     0]\n",
      " [    0 79999     0     0     0]]\n",
      "[[89999     0     0     0     0]\n",
      " [    0     0 89999     0     0]\n",
      " [89999     0     0     0     0]\n",
      " [    0 89999     0     0     0]]\n",
      "[[99999     0     0     0     0]\n",
      " [    0     0 99999     0     0]\n",
      " [99999     0     0     0     0]\n",
      " [    0 99999     0     0     0]]\n",
      "[[109999      0      0      0      0]\n",
      " [     0      0 109999      0      0]\n",
      " [109999      0      0      0      0]\n",
      " [     0 109999      0      0      0]]\n",
      "[[119999      0      0      0      0]\n",
      " [     0      0 119999      0      0]\n",
      " [119999      0      0      0      0]\n",
      " [     0 119999      0      0      0]]\n",
      "[[129999      0      0      0      0]\n",
      " [     0      0 129999      0      0]\n",
      " [129999      0      0      0      0]\n",
      " [     0 129999      0      0      0]]\n",
      "[[139999      0      0      0      0]\n",
      " [     0      0 139999      0      0]\n",
      " [139999      0      0      0      0]\n",
      " [     0 139999      0      0      0]]\n",
      "[[149999      0      0      0      0]\n",
      " [     0      0 149999      0      0]\n",
      " [149999      0      0      0      0]\n",
      " [     0 149999      0      0      0]]\n",
      "[[159999      0      0      0      0]\n",
      " [     0      0 159999      0      0]\n",
      " [159999      0      0      0      0]\n",
      " [     0 159999      0      0      0]]\n",
      "[[169999      0      0      0      0]\n",
      " [     0      0 169999      0      0]\n",
      " [169999      0      0      0      0]\n",
      " [     0 169999      0      0      0]]\n",
      "[[179999      0      0      0      0]\n",
      " [     0      0 179999      0      0]\n",
      " [179999      0      0      0      0]\n",
      " [     0 179999      0      0      0]]\n",
      "[[189999      0      0      0      0]\n",
      " [     0      0 189999      0      0]\n",
      " [189999      0      0      0      0]\n",
      " [     0 189999      0      0      0]]\n",
      "[1]\n",
      "[1, 9]\n",
      "[1, 5, 9, 13]\n",
      "[1, 3, 5, 7, 9, 11]\n",
      "[3, 4, 5, 6, 7, 8, 9, 10]\n",
      "[3, 4, 5, 8, 9, 10] [48854, 50562, 31157, 44252, 30612, 31157]\n",
      "time in seconds: 163\n"
     ]
    }
   ],
   "source": [
    "#filepath = 'data/supereasy'\n",
    "filepath = 'data/easy.txt'\n",
    "#filepath = 'data/largest_40k.txt'\n",
    "\n",
    "with open(filepath) as f:\n",
    "    n = int(f.readline())\n",
    "    m = int(f.readline())\n",
    "    t = int(f.readline())\n",
    "    \n",
    "start = time.time()\n",
    "result, freq = count_min_sketch(filepath, eps=0.6, delta=0.1, n=n, threshold=t)\n",
    "end = time.time()\n",
    "elapsed_time = int(round(end - start))\n",
    "\n",
    "print(result, freq)\n",
    "print('time in seconds:', elapsed_time)"
   ]
  },
  {
   "cell_type": "code",
   "execution_count": 25,
   "metadata": {},
   "outputs": [],
   "source": [
    "def brute(filepath, n):\n",
    "    chunks = pandas.read_csv(\n",
    "        filepath,\n",
    "        header=None,\n",
    "        skiprows=3,\n",
    "        squeeze=True,\n",
    "        dtype=np.int16,\n",
    "        delim_whitespace=True,\n",
    "        chunksize=5*10**5\n",
    "    )\n",
    "    \n",
    "    # does count 0 as well\n",
    "    idx = np.arange(n+1)\n",
    "    freq = np.zeros(n+1, dtype=np.int32)\n",
    "    \n",
    "    for chunk in chunks:\n",
    "        for x in chunk:\n",
    "            freq[x] += 1\n",
    "    print(idx)\n",
    "    print(freq)"
   ]
  },
  {
   "cell_type": "code",
   "execution_count": 26,
   "metadata": {},
   "outputs": [
    {
     "name": "stdout",
     "output_type": "stream",
     "text": [
      "[ 0  1  2  3  4  5  6  7  8  9 10 11 12]\n",
      "[   23   596  5954 23847 38313 24983 12249 24878 38298 24068  6174   590\n",
      "    24]\n"
     ]
    }
   ],
   "source": [
    "filepath = 'data/easy.txt'\n",
    "\n",
    "with open(filepath) as f:\n",
    "    n = int(f.readline())\n",
    "\n",
    "brute(filepath, n)"
   ]
  },
  {
   "cell_type": "code",
   "execution_count": null,
   "metadata": {},
   "outputs": [],
   "source": []
  }
 ],
 "metadata": {
  "kernelspec": {
   "display_name": "Python 3",
   "language": "python",
   "name": "python3"
  },
  "language_info": {
   "codemirror_mode": {
    "name": "ipython",
    "version": 3
   },
   "file_extension": ".py",
   "mimetype": "text/x-python",
   "name": "python",
   "nbconvert_exporter": "python",
   "pygments_lexer": "ipython3",
   "version": "3.5.3"
  }
 },
 "nbformat": 4,
 "nbformat_minor": 2
}
