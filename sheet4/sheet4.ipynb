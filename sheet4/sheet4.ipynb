{
 "cells": [
  {
   "cell_type": "markdown",
   "metadata": {},
   "source": [
    "## ILAS - Data Mining (summer 2019) - Assignment 4\n",
    "#### by Andreas Hene, Niklas Mertens, Richard Palme"
   ]
  },
  {
   "cell_type": "code",
   "execution_count": 2,
   "metadata": {
    "collapsed": true
   },
   "outputs": [],
   "source": [
    "import time\n",
    "import math\n",
    "\n",
    "import sympy\n",
    "import pandas\n",
    "import numpy as np\n",
    "import matplotlib.pyplot as plt"
   ]
  },
  {
   "cell_type": "markdown",
   "metadata": {},
   "source": [
    "First we write a function `get_repr` that returns the representative of an element val of [n] in the dyadic interval of level `lvl`. The representative is always chosen to be the smallest element of the dyadic array.\n",
    "$$ \\text{val} = j \\cdot 2^{h-\\text{lvl}} + \\text{rest} $$\n",
    "The representative can be computed by\n",
    "$$ j \\cdot 2^{h-\\text{lvl}} + 1 $$\n",
    "The formula won't work in the case `h == lvl`. But in this case we can just take `val` as it's own representation and don't call `get_repr` at all."
   ]
  },
  {
   "cell_type": "code",
   "execution_count": 4,
   "metadata": {
    "collapsed": true
   },
   "outputs": [],
   "source": [
    "def get_repr(val, lvl, h):\n",
    "    j = math.floor(val / 2**(h - lvl))\n",
    "    return j * 2**(h-lvl) + 1"
   ]
  },
  {
   "cell_type": "markdown",
   "metadata": {},
   "source": [
    "Next we write a function `get_children` that returns the children dyadic intervals of a representative `u`. The intervals are again given by their representative. The children are `u` itself and\n",
    "$$ (j+1) \\cdot 2^{h-(\\text{lvl} + 1)} + 1$$"
   ]
  },
  {
   "cell_type": "code",
   "execution_count": 1,
   "metadata": {
    "collapsed": true
   },
   "outputs": [],
   "source": [
    "def get_children(u, lvl, h):\n",
    "    j = math.floor(u / 2**(h - lvl))\n",
    "    return (j + 1) * 2**(h - (lvl+1)) + 1"
   ]
  },
  {
   "cell_type": "code",
   "execution_count": 14,
   "metadata": {
    "collapsed": true
   },
   "outputs": [],
   "source": [
    "def base_p(u, p, size):\n",
    "    res = np.zeros(size, dtype=np.int16)\n",
    "    i = 0\n",
    "    while u != 0:\n",
    "        u, r = np.divmod(u, p)\n",
    "        res[i] = r\n",
    "        i += 1\n",
    "    return res\n",
    "\n",
    "def hashfunc(u, a, b, p, k):\n",
    "    return (np.dot(a, base_p(u, p, k)) + b) % p\n"
   ]
  },
  {
   "cell_type": "code",
   "execution_count": 3,
   "metadata": {
    "collapsed": true
   },
   "outputs": [],
   "source": [
    "def count_min_sketch(filepath, eps, delta, n):\n",
    "    d = math.ceil(math.log(1.0 / delta, 2))\n",
    "    w = math.ceil(2.0 / eps)\n",
    "    \n",
    "    # find a prime p >= w + 1:\n",
    "    p = w + 1\n",
    "    while not sympy.isprime(p):\n",
    "        p += 1\n",
    "    \n",
    "    k = math.floor(math.log(n, p))\n",
    "    \n",
    "    hashfuncs = []\n",
    "    for _ in range(d):\n",
    "        a = np.asarray([np.random.randint(p) for _ in range(k)])\n",
    "        b = np.random.randint(p)\n",
    "        hashfuncs.append(lambda u: hashfunc(a, b, u))\n",
    "\n",
    "    h = math.ceil(math.log(n, 2))\n",
    "    C = np.zeros((h+1, d, w), dtype=np.int16)\n",
    "    \n",
    "    # dtype is int16, so 2 bytes. chunksize is 5*10**5,\n",
    "    # so one chunk is exactly 1 MB and\n",
    "    # should fit comfortably into cache.\n",
    "    chunks = pandas.read_csv(\n",
    "        filepath,\n",
    "        header=None,\n",
    "        skiprows=3,\n",
    "        squeeze=True,\n",
    "        dtype=np.int16,\n",
    "        delim_whitespace=True,\n",
    "        chunksize=5*10**5\n",
    "    )\n",
    "\n",
    "    # process the stream. Each chunk is of type pandas.series\n",
    "    for chunk in chunks:\n",
    "        for x in chunk:\n",
    "            for lvl in range(h):\n",
    "                u = get_repr(x, lvl, h)\n",
    "                for i, hashfunc in enumerate(hashfuncs):\n",
    "                    C[(lvl, i, hashfunc(u))] += 1\n",
    "            for i, hashfunc in enumerate(hashfuncs):\n",
    "                C[(h, i, x)] += 1\n",
    "    \n",
    "    # now we do BFS. the values in explore_current are\n",
    "    # the representatives of the dyadic arrays that\n",
    "    # currently get explored on this level.\n",
    "    explore_current = [1]\n",
    "    explore_next = []\n",
    "    hash_values = np.zeros(d)\n",
    "    for lvl in range(h):\n",
    "        for u in explore_current:\n",
    "            for i, hashfunc in enumerate(hashfuncs):\n",
    "                hash_values[i] = C[(h, i, hashfunc(u))]\n",
    "            if hash_values.min() >= t:\n",
    "                explore_next.extend(get_children(u, lvl))\n",
    "        explore_current = explore_next\n",
    "        explore_next = []\n",
    "    return explore_current"
   ]
  },
  {
   "cell_type": "code",
   "execution_count": null,
   "metadata": {
    "collapsed": true
   },
   "outputs": [],
   "source": [
    "filepath = 'data/easy.txt'\n",
    "#filepath = 'data/largest_40k.txt'\n",
    "\n",
    "with open(filepath) as f:\n",
    "    n = int(f.readline())\n",
    "    m = int(f.readline())\n",
    "    t = int(f.readline())\n",
    "    \n",
    "    \n",
    "    \n",
    "    \n",
    "\n",
    "start_ms = time.time() * 1000\n",
    "\n",
    "end_ms = time.time() * 1000\n",
    "elapsed_time_ms = int(round(end_ms - start_ms))"
   ]
  }
 ],
 "metadata": {
  "kernelspec": {
   "display_name": "Python 3",
   "language": "python",
   "name": "python3"
  },
  "language_info": {
   "codemirror_mode": {
    "name": "ipython",
    "version": 3
   },
   "file_extension": ".py",
   "mimetype": "text/x-python",
   "name": "python",
   "nbconvert_exporter": "python",
   "pygments_lexer": "ipython3",
   "version": "3.5.2"
  }
 },
 "nbformat": 4,
 "nbformat_minor": 2
}
