{
 "cells": [
  {
   "cell_type": "markdown",
   "metadata": {},
   "source": [
    "## ILAS - Data Mining (summer 2019) - Assignment 4\n",
    "#### by Andreas Hene, Niklas Mertens, Richard Palme"
   ]
  },
  {
   "cell_type": "code",
   "execution_count": 2,
   "metadata": {},
   "outputs": [],
   "source": [
    "%matplotlib inline\n",
    "\n",
    "import time\n",
    "import math\n",
    "import os\n",
    "import multiprocessing as mp\n",
    "\n",
    "import sympy\n",
    "import pandas\n",
    "import numpy as np\n",
    "import matplotlib.pyplot as plt"
   ]
  },
  {
   "cell_type": "markdown",
   "metadata": {},
   "source": [
    "First we write a function `get_repr` that returns the representative of an element `val` in the dyadic interval of level `lvl`. The representative is always chosen to be the smallest element of the dyadic array.\n",
    "$$ \\text{val} = j \\cdot 2^{h-\\text{lvl}} + \\text{rest} $$\n",
    "The representative can be computed by\n",
    "$$ j \\cdot 2^{h-\\text{lvl}} $$"
   ]
  },
  {
   "cell_type": "code",
   "execution_count": 3,
   "metadata": {},
   "outputs": [],
   "source": [
    "def get_repr(val, lvl, h):\n",
    "    return math.floor(val / 2**(h-lvl)) * 2**(h-lvl)"
   ]
  },
  {
   "cell_type": "markdown",
   "metadata": {},
   "source": [
    "Next we write a function `get_children` that returns the children dyadic intervals of a representative `u`. The intervals are again given by their representative. The children of `u` are `u` and\n",
    "$$ u + 2^{h-(\\text{lvl} + 1)} $$"
   ]
  },
  {
   "cell_type": "code",
   "execution_count": 4,
   "metadata": {},
   "outputs": [],
   "source": [
    "def get_children(u, lvl, h, n):\n",
    "    children = [u]\n",
    "    if lvl != h:\n",
    "        right_child = u + 2**(h - (lvl+1))\n",
    "        if right_child <= n:\n",
    "            children.append(right_child)\n",
    "    return children"
   ]
  },
  {
   "cell_type": "code",
   "execution_count": 5,
   "metadata": {},
   "outputs": [],
   "source": [
    "def base_p(u, p, size):\n",
    "    res = np.zeros(size, dtype=np.int16)\n",
    "    i = 0\n",
    "    while u != 0:\n",
    "        u, r = np.divmod(u, p)\n",
    "        res[i] = r\n",
    "        i += 1\n",
    "    return res\n",
    "\n",
    "def _hashfunc(u, a, b, p, k):\n",
    "    return (np.dot(a, base_p(u, p, k)) + b) % p"
   ]
  },
  {
   "cell_type": "code",
   "execution_count": 53,
   "metadata": {},
   "outputs": [],
   "source": [
    "def readstream(chunk_num, chunk, h, d, p, hashpattern, point_query, return_dict):\n",
    "    if not point_query:\n",
    "        # note that, since w isn't necessarily a prime number,\n",
    "        # we might have to make w larger (i.e. take p instead of w)\n",
    "        C = np.zeros((h+1, d, p), dtype=np.int32)\n",
    "\n",
    "        for x in chunk:\n",
    "            for lvl in range(h+1):\n",
    "                u = get_repr(x, lvl, h)\n",
    "                #for i, hashfunc in enumerate(hashfuncs):\n",
    "                    #C[(lvl, i, hashfunc(u))] += 1\n",
    "                #for i in range(d):\n",
    "                #    C[(lvl, i, hashfuncs[(i, u)])] += 1\n",
    "                np.add(C[lvl], hashpattern[u], out=C[lvl])\n",
    "        return_dict[chunk_num] = C\n",
    "    else:\n",
    "        C = np.zeros((d, p), dtype=np.int32)\n",
    "        for x in chunk:\n",
    "            np.add(C, hashpattern[x], out=C)\n",
    "        return_dict[chunk_num] = C\n",
    "\n",
    "def count_min_sketch(filepath, eps=1e-3, delta=1e-10, point_query=False):\n",
    "    with open(filepath) as f:\n",
    "        n = int(f.readline())\n",
    "        m = int(f.readline())\n",
    "        threshold = int(f.readline())\n",
    "    \n",
    "    d = math.ceil(math.log(1.0 / delta, 2))\n",
    "    w = math.ceil(2.0 / eps)\n",
    "    \n",
    "    # find a prime p with p >= w\n",
    "    p = w\n",
    "    while not sympy.isprime(p):\n",
    "        p += 1\n",
    "\n",
    "    # choose k such that p^k - 1 >= n\n",
    "    # i.e. k >= log(n+1, p)\n",
    "    k = math.ceil(math.log(n+1, p))\n",
    "\n",
    "    hashfuncs = []\n",
    "    for _ in range(d):\n",
    "        a = np.asarray([np.random.randint(p) for _ in range(k)])\n",
    "        b = np.random.randint(p)\n",
    "        hashfuncs.append(lambda u, a=a, b=b: _hashfunc(u, a, b, p, k))\n",
    "\n",
    "    #hashfuncs = np.zeros((d, n+1), dtype=np.int16)\n",
    "    #for i in range(d):\n",
    "    #    a = np.asarray([np.random.randint(p) for _ in range(k)])\n",
    "    #    b = np.random.randint(p)\n",
    "    #    for j in range(n+1):\n",
    "    #        hashfuncs[(i, j)] = hashfunc(j, a, b, p, k)\n",
    "\n",
    "    hashpattern = np.zeros((n+1, d, p), dtype=np.int8)\n",
    "    for u in range(n + 1):\n",
    "        for i, hashfunc in enumerate(hashfuncs):\n",
    "            hashpattern[(u, i, hashfunc(u))] = 1\n",
    "\n",
    "    h = math.ceil(math.log(n, 2))\n",
    "\n",
    "    num_cores = os.cpu_count()\n",
    "    chunksize = math.ceil(m / num_cores)\n",
    "    chunks = pandas.read_csv(\n",
    "        filepath,\n",
    "        header=None,\n",
    "        skiprows=3,\n",
    "        squeeze=True,\n",
    "        dtype=np.int16,\n",
    "        delim_whitespace=True,\n",
    "        chunksize=chunksize\n",
    "    )\n",
    "    \n",
    "    manager = mp.Manager()\n",
    "    return_dict = manager.dict()\n",
    "    jobs = []\n",
    "    for i, chunk in enumerate(chunks):\n",
    "        job = mp.Process(target=readstream, args=(i, chunk, h, d, p, hashpattern, point_query, return_dict))\n",
    "        jobs.append(job)\n",
    "        job.start()\n",
    "    for proc in jobs:\n",
    "        proc.join()\n",
    "    \n",
    "    if not point_query:\n",
    "        # note that, since w isn't necessarily a prime number,\n",
    "        # we might have to make w larger (i.e. take p instead of w)\n",
    "        C = np.zeros((h+1, d, p), dtype=np.int32)\n",
    "        for matrix in return_dict.values():\n",
    "            np.add(C, matrix, out=C)\n",
    "    \n",
    "        # now we do BFS. the values in explore_current are\n",
    "        # the representatives of the dyadic arrays that\n",
    "        # currently get explored on this level.\n",
    "        explore_current = [0]\n",
    "        explore_next = []\n",
    "        approx_freq = np.zeros(d, dtype=np.int32)\n",
    "        for lvl in range(h + 1):\n",
    "            for u in explore_current:\n",
    "                for i, hashfunc in enumerate(hashfuncs):\n",
    "                    approx_freq[i] = C[(lvl, i, hashfunc(u))]\n",
    "                #for i in range(d):\n",
    "                #    approx_freq[i] = C[(lvl, i, hashfuncs[(i, u)])]\n",
    "                if approx_freq.min() >= threshold:\n",
    "                    explore_next.extend(get_children(u, lvl, h, n))\n",
    "            explore_current = explore_next\n",
    "            explore_next = []\n",
    "\n",
    "        # prepare the output:\n",
    "        approx_frequency = []\n",
    "        for u in explore_current:\n",
    "            for i, hashfunc in enumerate(hashfuncs):\n",
    "                approx_freq[i] = C[(h, i, hashfunc(u))]\n",
    "            #for i in range(d):\n",
    "            #    approx_freq[i] = C[(h, i, hashfuncs[(i, u)])]\n",
    "            approx_frequency.append(approx_freq.min())\n",
    "\n",
    "        return explore_current, approx_frequency\n",
    "\n",
    "    C = np.zeros((d, p), dtype=np.int32)\n",
    "    for matrix in return_dict.values():\n",
    "        np.add(C, matrix, out=C)\n",
    "    \n",
    "    approx_frequency = []\n",
    "    approx_freq = np.zeros(d, dtype=np.int32)\n",
    "    for u in range(n + 1):\n",
    "        for i, hashfunc in enumerate(hashfuncs):\n",
    "            approx_freq[i] = C[(i, hashfunc(u))]\n",
    "        approx_frequency.append(approx_freq.min())\n",
    "    return list(range(n+1)), approx_frequency"
   ]
  },
  {
   "cell_type": "code",
   "execution_count": 54,
   "metadata": {},
   "outputs": [],
   "source": [
    "def readstream_brute(chunk_num, chunk, n, return_dict):\n",
    "    freq = np.zeros(n+1, dtype=np.int32)\n",
    "    for u in chunk:\n",
    "        freq[u] += 1\n",
    "    return_dict[chunk_num] = freq\n",
    "\n",
    "def brute(filepath, point_query=False):\n",
    "    with open(filepath) as f:\n",
    "        n = int(f.readline())\n",
    "        m = int(f.readline())\n",
    "        t = int(f.readline())\n",
    "    \n",
    "    num_cores = os.cpu_count()\n",
    "    chunksize = math.ceil(m / num_cores)\n",
    "    chunks = pandas.read_csv(\n",
    "        filepath,\n",
    "        header=None,\n",
    "        skiprows=3,\n",
    "        squeeze=True,\n",
    "        dtype=np.int16,\n",
    "        delim_whitespace=True,\n",
    "        chunksize=chunksize\n",
    "    )\n",
    "    \n",
    "    manager = mp.Manager()\n",
    "    return_dict = manager.dict()\n",
    "    jobs = []\n",
    "    for i, chunk in enumerate(chunks):\n",
    "        job = mp.Process(target=readstream_brute, args=(i, chunk, n, return_dict))\n",
    "        jobs.append(job)\n",
    "        job.start()\n",
    "    for proc in jobs:\n",
    "        proc.join()\n",
    "       \n",
    "    freq = np.zeros(n+1, dtype=np.int32)\n",
    "    for arr in return_dict.values():\n",
    "        np.add(freq, arr, out=freq)\n",
    "    \n",
    "    if not point_query:\n",
    "        return [(i, f) for (i, f) in zip(range(n+1), freq) if f >= t]\n",
    "    return [(i, f) for (i, f) in zip(range(n+1), freq)]"
   ]
  },
  {
   "cell_type": "code",
   "execution_count": 87,
   "metadata": {},
   "outputs": [],
   "source": [
    "filename = [\n",
    "    'data/easy.txt',\n",
    "    'data/large_15k.txt',\n",
    "    'data/large_25k.txt',\n",
    "    'data/larger_40k.txt',\n",
    "    'data/wide_1k.txt',\n",
    "    'data/largest_40k.txt',\n",
    "]\n",
    "\n",
    "def run_countmin(filepath, eps=1e-3, delta=1e-10, point_query=False):\n",
    "    start = time.time()\n",
    "    result, freq = count_min_sketch(filepath, eps=eps, delta=delta, point_query=point_query)\n",
    "    end = time.time()\n",
    "    elapsed_time = int(round(end - start))\n",
    "\n",
    "    print(filepath)\n",
    "    print(list(zip(result, freq)))\n",
    "    print('time in seconds:', elapsed_time)\n",
    "    print()\n",
    "    \n",
    "def run_brute(filepath, point_query=False):\n",
    "    start = time.time()\n",
    "    result = brute(filepath, point_query=point_query)\n",
    "    end = time.time()\n",
    "    elapsed_time = int(round(end - start))\n",
    "\n",
    "    print(filepath)\n",
    "    print(result)\n",
    "    print()\n",
    "    print('time in seconds:', elapsed_time)\n",
    "    print()"
   ]
  },
  {
   "cell_type": "markdown",
   "metadata": {},
   "source": [
    "### Tasks 3 and 4"
   ]
  },
  {
   "cell_type": "code",
   "execution_count": 88,
   "metadata": {},
   "outputs": [
    {
     "name": "stdout",
     "output_type": "stream",
     "text": [
      "data/easy.txt\n",
      "[(4, 38313), (8, 38298)]\n",
      "\n",
      "time in seconds: 1\n",
      "\n",
      "data/easy.txt\n",
      "[(4, 38313), (8, 38298)]\n",
      "time in seconds: 57\n",
      "\n",
      "data/large_15k.txt\n",
      "[(1079, 16261), (1080, 17619), (1081, 19139), (1082, 20809), (1083, 22552), (1084, 23643), (1085, 24202), (1086, 25485), (1087, 25951), (1088, 26327), (1089, 26725), (1090, 26522), (1091, 26231), (1092, 25085), (1093, 24463), (1094, 23421), (1095, 22264), (1096, 20880), (1097, 19277), (1098, 17872), (1099, 16061)]\n",
      "\n",
      "time in seconds: 8\n",
      "\n",
      "data/large_15k.txt\n",
      "[(1079, 16261), (1080, 17619), (1081, 19139), (1082, 20809), (1083, 22552), (1084, 23643), (1085, 24202), (1086, 25485), (1087, 25951), (1088, 26327), (1089, 26725), (1090, 26522), (1091, 26231), (1092, 25085), (1093, 24463), (1094, 23421), (1095, 22264), (1096, 20880), (1097, 19277), (1098, 17872), (1099, 16061)]\n",
      "time in seconds: 2031\n",
      "\n",
      "data/large_25k.txt\n",
      "[(1086, 25485), (1087, 25951), (1088, 26327), (1089, 26725), (1090, 26522), (1091, 26231), (1092, 25085)]\n",
      "\n",
      "time in seconds: 12\n",
      "\n"
     ]
    },
    {
     "name": "stderr",
     "output_type": "stream",
     "text": [
      "Process Process-412:\n",
      "Process Process-413:\n",
      "Process Process-414:\n",
      "Traceback (most recent call last):\n",
      "Process Process-411:\n",
      "Traceback (most recent call last):\n",
      "  File \"/usr/lib/python3.5/multiprocessing/process.py\", line 249, in _bootstrap\n",
      "    self.run()\n",
      "Traceback (most recent call last):\n",
      "Traceback (most recent call last):\n",
      "  File \"/usr/lib/python3.5/multiprocessing/process.py\", line 249, in _bootstrap\n",
      "    self.run()\n",
      "  File \"/usr/lib/python3.5/multiprocessing/process.py\", line 249, in _bootstrap\n",
      "    self.run()\n",
      "  File \"/usr/lib/python3.5/multiprocessing/process.py\", line 93, in run\n",
      "    self._target(*self._args, **self._kwargs)\n",
      "  File \"/usr/lib/python3.5/multiprocessing/process.py\", line 249, in _bootstrap\n",
      "    self.run()\n",
      "  File \"/usr/lib/python3.5/multiprocessing/process.py\", line 93, in run\n",
      "    self._target(*self._args, **self._kwargs)\n",
      "  File \"/usr/lib/python3.5/multiprocessing/process.py\", line 93, in run\n",
      "    self._target(*self._args, **self._kwargs)\n",
      "  File \"<ipython-input-53-5c6f54c08582>\", line 15, in readstream\n",
      "    np.add(C[lvl], hashpattern[u], out=C[lvl])\n",
      "  File \"<ipython-input-53-5c6f54c08582>\", line 15, in readstream\n",
      "    np.add(C[lvl], hashpattern[u], out=C[lvl])\n",
      "  File \"/usr/lib/python3.5/multiprocessing/process.py\", line 93, in run\n",
      "    self._target(*self._args, **self._kwargs)\n",
      "KeyboardInterrupt\n",
      "  File \"<ipython-input-53-5c6f54c08582>\", line 15, in readstream\n",
      "    np.add(C[lvl], hashpattern[u], out=C[lvl])\n",
      "KeyboardInterrupt\n",
      "KeyboardInterrupt\n",
      "  File \"<ipython-input-53-5c6f54c08582>\", line 15, in readstream\n",
      "    np.add(C[lvl], hashpattern[u], out=C[lvl])\n",
      "KeyboardInterrupt\n"
     ]
    },
    {
     "ename": "KeyboardInterrupt",
     "evalue": "",
     "output_type": "error",
     "traceback": [
      "\u001b[0;31m---------------------------------------------------------------------------\u001b[0m",
      "\u001b[0;31mKeyboardInterrupt\u001b[0m                         Traceback (most recent call last)",
      "\u001b[0;32m<ipython-input-88-9ef5d4eebd29>\u001b[0m in \u001b[0;36m<module>\u001b[0;34m\u001b[0m\n\u001b[1;32m      1\u001b[0m \u001b[0;32mfor\u001b[0m \u001b[0mfilepath\u001b[0m \u001b[0;32min\u001b[0m \u001b[0mfilename\u001b[0m\u001b[0;34m:\u001b[0m\u001b[0;34m\u001b[0m\u001b[0m\n\u001b[1;32m      2\u001b[0m     \u001b[0mrun_brute\u001b[0m\u001b[0;34m(\u001b[0m\u001b[0mfilepath\u001b[0m\u001b[0;34m)\u001b[0m\u001b[0;34m\u001b[0m\u001b[0m\n\u001b[0;32m----> 3\u001b[0;31m     \u001b[0mrun_countmin\u001b[0m\u001b[0;34m(\u001b[0m\u001b[0mfilepath\u001b[0m\u001b[0;34m)\u001b[0m\u001b[0;34m\u001b[0m\u001b[0m\n\u001b[0m",
      "\u001b[0;32m<ipython-input-87-c3c80dd70bb6>\u001b[0m in \u001b[0;36mrun_countmin\u001b[0;34m(filepath, eps, delta, point_query)\u001b[0m\n\u001b[1;32m     10\u001b[0m \u001b[0;32mdef\u001b[0m \u001b[0mrun_countmin\u001b[0m\u001b[0;34m(\u001b[0m\u001b[0mfilepath\u001b[0m\u001b[0;34m,\u001b[0m \u001b[0meps\u001b[0m\u001b[0;34m=\u001b[0m\u001b[0;36m1e-3\u001b[0m\u001b[0;34m,\u001b[0m \u001b[0mdelta\u001b[0m\u001b[0;34m=\u001b[0m\u001b[0;36m1e-10\u001b[0m\u001b[0;34m,\u001b[0m \u001b[0mpoint_query\u001b[0m\u001b[0;34m=\u001b[0m\u001b[0;32mFalse\u001b[0m\u001b[0;34m)\u001b[0m\u001b[0;34m:\u001b[0m\u001b[0;34m\u001b[0m\u001b[0m\n\u001b[1;32m     11\u001b[0m     \u001b[0mstart\u001b[0m \u001b[0;34m=\u001b[0m \u001b[0mtime\u001b[0m\u001b[0;34m.\u001b[0m\u001b[0mtime\u001b[0m\u001b[0;34m(\u001b[0m\u001b[0;34m)\u001b[0m\u001b[0;34m\u001b[0m\u001b[0m\n\u001b[0;32m---> 12\u001b[0;31m     \u001b[0mresult\u001b[0m\u001b[0;34m,\u001b[0m \u001b[0mfreq\u001b[0m \u001b[0;34m=\u001b[0m \u001b[0mcount_min_sketch\u001b[0m\u001b[0;34m(\u001b[0m\u001b[0mfilepath\u001b[0m\u001b[0;34m,\u001b[0m \u001b[0meps\u001b[0m\u001b[0;34m=\u001b[0m\u001b[0meps\u001b[0m\u001b[0;34m,\u001b[0m \u001b[0mdelta\u001b[0m\u001b[0;34m=\u001b[0m\u001b[0mdelta\u001b[0m\u001b[0;34m,\u001b[0m \u001b[0mpoint_query\u001b[0m\u001b[0;34m=\u001b[0m\u001b[0mpoint_query\u001b[0m\u001b[0;34m)\u001b[0m\u001b[0;34m\u001b[0m\u001b[0m\n\u001b[0m\u001b[1;32m     13\u001b[0m     \u001b[0mend\u001b[0m \u001b[0;34m=\u001b[0m \u001b[0mtime\u001b[0m\u001b[0;34m.\u001b[0m\u001b[0mtime\u001b[0m\u001b[0;34m(\u001b[0m\u001b[0;34m)\u001b[0m\u001b[0;34m\u001b[0m\u001b[0m\n\u001b[1;32m     14\u001b[0m     \u001b[0melapsed_time\u001b[0m \u001b[0;34m=\u001b[0m \u001b[0mint\u001b[0m\u001b[0;34m(\u001b[0m\u001b[0mround\u001b[0m\u001b[0;34m(\u001b[0m\u001b[0mend\u001b[0m \u001b[0;34m-\u001b[0m \u001b[0mstart\u001b[0m\u001b[0;34m)\u001b[0m\u001b[0;34m)\u001b[0m\u001b[0;34m\u001b[0m\u001b[0m\n",
      "\u001b[0;32m<ipython-input-53-5c6f54c08582>\u001b[0m in \u001b[0;36mcount_min_sketch\u001b[0;34m(filepath, eps, delta, point_query)\u001b[0m\n\u001b[1;32m     79\u001b[0m         \u001b[0mjob\u001b[0m\u001b[0;34m.\u001b[0m\u001b[0mstart\u001b[0m\u001b[0;34m(\u001b[0m\u001b[0;34m)\u001b[0m\u001b[0;34m\u001b[0m\u001b[0m\n\u001b[1;32m     80\u001b[0m     \u001b[0;32mfor\u001b[0m \u001b[0mproc\u001b[0m \u001b[0;32min\u001b[0m \u001b[0mjobs\u001b[0m\u001b[0;34m:\u001b[0m\u001b[0;34m\u001b[0m\u001b[0m\n\u001b[0;32m---> 81\u001b[0;31m         \u001b[0mproc\u001b[0m\u001b[0;34m.\u001b[0m\u001b[0mjoin\u001b[0m\u001b[0;34m(\u001b[0m\u001b[0;34m)\u001b[0m\u001b[0;34m\u001b[0m\u001b[0m\n\u001b[0m\u001b[1;32m     82\u001b[0m \u001b[0;34m\u001b[0m\u001b[0m\n\u001b[1;32m     83\u001b[0m     \u001b[0;32mif\u001b[0m \u001b[0;32mnot\u001b[0m \u001b[0mpoint_query\u001b[0m\u001b[0;34m:\u001b[0m\u001b[0;34m\u001b[0m\u001b[0m\n",
      "\u001b[0;32m/usr/lib/python3.5/multiprocessing/process.py\u001b[0m in \u001b[0;36mjoin\u001b[0;34m(self, timeout)\u001b[0m\n\u001b[1;32m    119\u001b[0m         \u001b[0;32massert\u001b[0m \u001b[0mself\u001b[0m\u001b[0;34m.\u001b[0m\u001b[0m_parent_pid\u001b[0m \u001b[0;34m==\u001b[0m \u001b[0mos\u001b[0m\u001b[0;34m.\u001b[0m\u001b[0mgetpid\u001b[0m\u001b[0;34m(\u001b[0m\u001b[0;34m)\u001b[0m\u001b[0;34m,\u001b[0m \u001b[0;34m'can only join a child process'\u001b[0m\u001b[0;34m\u001b[0m\u001b[0m\n\u001b[1;32m    120\u001b[0m         \u001b[0;32massert\u001b[0m \u001b[0mself\u001b[0m\u001b[0;34m.\u001b[0m\u001b[0m_popen\u001b[0m \u001b[0;32mis\u001b[0m \u001b[0;32mnot\u001b[0m \u001b[0;32mNone\u001b[0m\u001b[0;34m,\u001b[0m \u001b[0;34m'can only join a started process'\u001b[0m\u001b[0;34m\u001b[0m\u001b[0m\n\u001b[0;32m--> 121\u001b[0;31m         \u001b[0mres\u001b[0m \u001b[0;34m=\u001b[0m \u001b[0mself\u001b[0m\u001b[0;34m.\u001b[0m\u001b[0m_popen\u001b[0m\u001b[0;34m.\u001b[0m\u001b[0mwait\u001b[0m\u001b[0;34m(\u001b[0m\u001b[0mtimeout\u001b[0m\u001b[0;34m)\u001b[0m\u001b[0;34m\u001b[0m\u001b[0m\n\u001b[0m\u001b[1;32m    122\u001b[0m         \u001b[0;32mif\u001b[0m \u001b[0mres\u001b[0m \u001b[0;32mis\u001b[0m \u001b[0;32mnot\u001b[0m \u001b[0;32mNone\u001b[0m\u001b[0;34m:\u001b[0m\u001b[0;34m\u001b[0m\u001b[0m\n\u001b[1;32m    123\u001b[0m             \u001b[0m_children\u001b[0m\u001b[0;34m.\u001b[0m\u001b[0mdiscard\u001b[0m\u001b[0;34m(\u001b[0m\u001b[0mself\u001b[0m\u001b[0;34m)\u001b[0m\u001b[0;34m\u001b[0m\u001b[0m\n",
      "\u001b[0;32m/usr/lib/python3.5/multiprocessing/popen_fork.py\u001b[0m in \u001b[0;36mwait\u001b[0;34m(self, timeout)\u001b[0m\n\u001b[1;32m     49\u001b[0m                     \u001b[0;32mreturn\u001b[0m \u001b[0;32mNone\u001b[0m\u001b[0;34m\u001b[0m\u001b[0m\n\u001b[1;32m     50\u001b[0m             \u001b[0;31m# This shouldn't block if wait() returned successfully.\u001b[0m\u001b[0;34m\u001b[0m\u001b[0;34m\u001b[0m\u001b[0m\n\u001b[0;32m---> 51\u001b[0;31m             \u001b[0;32mreturn\u001b[0m \u001b[0mself\u001b[0m\u001b[0;34m.\u001b[0m\u001b[0mpoll\u001b[0m\u001b[0;34m(\u001b[0m\u001b[0mos\u001b[0m\u001b[0;34m.\u001b[0m\u001b[0mWNOHANG\u001b[0m \u001b[0;32mif\u001b[0m \u001b[0mtimeout\u001b[0m \u001b[0;34m==\u001b[0m \u001b[0;36m0.0\u001b[0m \u001b[0;32melse\u001b[0m \u001b[0;36m0\u001b[0m\u001b[0;34m)\u001b[0m\u001b[0;34m\u001b[0m\u001b[0m\n\u001b[0m\u001b[1;32m     52\u001b[0m         \u001b[0;32mreturn\u001b[0m \u001b[0mself\u001b[0m\u001b[0;34m.\u001b[0m\u001b[0mreturncode\u001b[0m\u001b[0;34m\u001b[0m\u001b[0m\n\u001b[1;32m     53\u001b[0m \u001b[0;34m\u001b[0m\u001b[0m\n",
      "\u001b[0;32m/usr/lib/python3.5/multiprocessing/popen_fork.py\u001b[0m in \u001b[0;36mpoll\u001b[0;34m(self, flag)\u001b[0m\n\u001b[1;32m     27\u001b[0m             \u001b[0;32mwhile\u001b[0m \u001b[0;32mTrue\u001b[0m\u001b[0;34m:\u001b[0m\u001b[0;34m\u001b[0m\u001b[0m\n\u001b[1;32m     28\u001b[0m                 \u001b[0;32mtry\u001b[0m\u001b[0;34m:\u001b[0m\u001b[0;34m\u001b[0m\u001b[0m\n\u001b[0;32m---> 29\u001b[0;31m                     \u001b[0mpid\u001b[0m\u001b[0;34m,\u001b[0m \u001b[0msts\u001b[0m \u001b[0;34m=\u001b[0m \u001b[0mos\u001b[0m\u001b[0;34m.\u001b[0m\u001b[0mwaitpid\u001b[0m\u001b[0;34m(\u001b[0m\u001b[0mself\u001b[0m\u001b[0;34m.\u001b[0m\u001b[0mpid\u001b[0m\u001b[0;34m,\u001b[0m \u001b[0mflag\u001b[0m\u001b[0;34m)\u001b[0m\u001b[0;34m\u001b[0m\u001b[0m\n\u001b[0m\u001b[1;32m     30\u001b[0m                 \u001b[0;32mexcept\u001b[0m \u001b[0mOSError\u001b[0m \u001b[0;32mas\u001b[0m \u001b[0me\u001b[0m\u001b[0;34m:\u001b[0m\u001b[0;34m\u001b[0m\u001b[0m\n\u001b[1;32m     31\u001b[0m                     \u001b[0;31m# Child process not yet created. See #1731717\u001b[0m\u001b[0;34m\u001b[0m\u001b[0;34m\u001b[0m\u001b[0m\n",
      "\u001b[0;31mKeyboardInterrupt\u001b[0m: "
     ]
    }
   ],
   "source": [
    "for filepath in filename:\n",
    "    run_brute(filepath)\n",
    "    run_countmin(filepath)"
   ]
  },
  {
   "cell_type": "code",
   "execution_count": null,
   "metadata": {},
   "outputs": [],
   "source": [
    "filepath = filename[0]\n",
    "run_countmin(filepath, eps=1e-3, delta=1e-10)"
   ]
  },
  {
   "cell_type": "code",
   "execution_count": 79,
   "metadata": {},
   "outputs": [],
   "source": [
    "# point_queries\n",
    "def q_1(true_freq, freq):\n",
    "    return sum(abs(x - f) for (x, f) in zip(freq, true_freq)) / np.count_nonzero(true_freq)\n",
    "\n",
    "def q_2(true_freq, freq):\n",
    "    x = np.array(true_freq)\n",
    "    return np.absolute(x - freq).max()\n",
    "\n",
    "def true_frequency(filepath):\n",
    "    brute_result = brute(filepath, point_query=True)\n",
    "    return np.array([y for (x, y) in brute_result])\n",
    "\n",
    "def analyze(filepath, true_freq, eps=1e-3, delta=1e-10):\n",
    "    #print('eps ', eps)\n",
    "    #rint('delta ', delta)\n",
    "    with open(filepath) as f:\n",
    "        n = int(f.readline())\n",
    "        m = int(f.readline())\n",
    "        t = int(f.readline())\n",
    "\n",
    "    elem, freq = count_min_sketch(filepath, eps=eps, delta=delta, point_query=True)   \n",
    "\n",
    "    a = q_1(true_freq, freq)\n",
    "    b = q_2(true_freq, freq)\n",
    "           \n",
    "    #print('q_1: ', a)\n",
    "    #rint('q_2: ', b)\n",
    "    \n",
    "    heavy_hitters = []\n",
    "    true_heavy_hitters = []\n",
    "    for i in range(n+1):\n",
    "        if true_freq[i] >= t:\n",
    "            true_heavy_hitters.append(true_freq[i])\n",
    "            heavy_hitters.append(freq[i])\n",
    "    heavy_hitters = np.array(heavy_hitters)\n",
    "    true_heavy_hitters = np.array(true_heavy_hitters)\n",
    "    \n",
    "    qprime_1 = q_1(true_heavy_hitters, heavy_hitters)\n",
    "    qprime_2 = q_2(true_heavy_hitters, heavy_hitters)\n",
    "    #print(\"q'_1: \", qprime_1)\n",
    "    #print(\"q'_2: \", qprime_2)\n",
    "    #print()\n",
    "    \n",
    "    return a, b, qprime_1, qprime_2"
   ]
  },
  {
   "cell_type": "code",
   "execution_count": 63,
   "metadata": {},
   "outputs": [
    {
     "name": "stdout",
     "output_type": "stream",
     "text": [
      "q_1:  95537.95692307693\n",
      "q_2:  80863\n",
      "q'_1:  55403.71428571428\n",
      "q'_2:  67153\n"
     ]
    }
   ],
   "source": [
    "filepath = filename[1]\n",
    "true_freq = true_frequency(filepath)\n",
    "analyze(filepath, true_freq, eps=1e-1, delta=1e-10)"
   ]
  },
  {
   "cell_type": "code",
   "execution_count": 72,
   "metadata": {},
   "outputs": [
    {
     "name": "stdout",
     "output_type": "stream",
     "text": [
      "q_1:  105047.59692307693\n",
      "q_2:  39460\n",
      "q'_1:  25675.809523809523\n",
      "q'_2:  28200\n"
     ]
    }
   ],
   "source": [
    "analyze(filepath, true_freq, eps=5 * 1e-2, delta=1e-10)"
   ]
  },
  {
   "cell_type": "code",
   "execution_count": 65,
   "metadata": {
    "scrolled": true
   },
   "outputs": [
    {
     "name": "stdout",
     "output_type": "stream",
     "text": [
      "q_1:  41.90461538461538\n",
      "q_2:  276\n",
      "q'_1:  4.571428571428571\n",
      "q'_2:  15\n"
     ]
    }
   ],
   "source": [
    "analyze(filepath, true_freq, eps=1e-2, delta=1e-10)"
   ]
  },
  {
   "cell_type": "code",
   "execution_count": 71,
   "metadata": {},
   "outputs": [
    {
     "name": "stdout",
     "output_type": "stream",
     "text": [
      "q_1:  34.24923076923077\n",
      "q_2:  529\n",
      "q'_1:  1.8571428571428572\n",
      "q'_2:  6\n"
     ]
    }
   ],
   "source": [
    "analyze(filepath, true_freq, eps=8.75 * 1e-3, delta=1e-10)"
   ]
  },
  {
   "cell_type": "code",
   "execution_count": 70,
   "metadata": {},
   "outputs": [
    {
     "name": "stdout",
     "output_type": "stream",
     "text": [
      "q_1:  0.006153846153846154\n",
      "q_2:  1\n",
      "q'_1:  0.0\n",
      "q'_2:  0\n"
     ]
    }
   ],
   "source": [
    "analyze(filepath, true_freq, eps=7.5 * 1e-3, delta=1e-10)"
   ]
  },
  {
   "cell_type": "code",
   "execution_count": 67,
   "metadata": {},
   "outputs": [
    {
     "name": "stdout",
     "output_type": "stream",
     "text": [
      "q_1:  0.0\n",
      "q_2:  0\n",
      "q'_1:  0.0\n",
      "q'_2:  0\n"
     ]
    }
   ],
   "source": [
    "analyze(filepath, true_freq, eps=5 * 1e-3, delta=1e-10)"
   ]
  },
  {
   "cell_type": "code",
   "execution_count": 66,
   "metadata": {},
   "outputs": [
    {
     "name": "stdout",
     "output_type": "stream",
     "text": [
      "q_1:  0.0\n",
      "q_2:  0\n",
      "q'_1:  0.0\n",
      "q'_2:  0\n"
     ]
    }
   ],
   "source": [
    "analyze(filepath, true_freq, eps=1e-3, delta=1e-10)"
   ]
  },
  {
   "cell_type": "code",
   "execution_count": 80,
   "metadata": {},
   "outputs": [
    {
     "name": "stdout",
     "output_type": "stream",
     "text": [
      "eps  0.1\n",
      "delta  1e-10\n",
      "q_1:  62669.49230769231\n",
      "q_2:  75707\n",
      "q'_1:  54630.71428571428\n",
      "q'_2:  63437\n",
      "eps  0.09321428571428572\n",
      "delta  1e-10\n",
      "q_1:  38211.85846153846\n",
      "q_2:  73702\n",
      "q'_1:  55120.95238095238\n",
      "q'_2:  67289\n",
      "eps  0.08642857142857144\n",
      "delta  1e-10\n",
      "q_1:  177643.06153846154\n",
      "q_2:  64375\n",
      "q'_1:  38171.09523809524\n",
      "q'_2:  41600\n",
      "eps  0.07964285714285715\n",
      "delta  1e-10\n",
      "q_1:  43484.02769230769\n",
      "q_2:  58977\n",
      "q'_1:  38732.90476190476\n",
      "q'_2:  40986\n",
      "eps  0.07285714285714287\n",
      "delta  1e-10\n",
      "q_1:  178728.8646153846\n",
      "q_2:  61518\n",
      "q'_1:  38582.0\n",
      "q'_2:  42998\n",
      "eps  0.06607142857142859\n",
      "delta  1e-10\n",
      "q_1:  145102.80615384615\n",
      "q_2:  51069\n",
      "q'_1:  36314.0\n",
      "q'_2:  39347\n",
      "eps  0.05928571428571429\n",
      "delta  1e-10\n",
      "q_1:  22718.633846153847\n",
      "q_2:  39581\n",
      "q'_1:  27301.571428571428\n",
      "q'_2:  30185\n",
      "eps  0.052500000000000005\n",
      "delta  1e-10\n",
      "q_1:  109411.66461538461\n",
      "q_2:  42202\n",
      "q'_1:  24360.238095238095\n",
      "q'_2:  26604\n",
      "eps  0.04571428571428572\n",
      "delta  1e-10\n",
      "q_1:  67843.55076923077\n",
      "q_2:  28983\n",
      "q'_1:  19671.14285714286\n",
      "q'_2:  24524\n",
      "eps  0.03892857142857144\n",
      "delta  1e-10\n",
      "q_1:  64647.82153846154\n",
      "q_2:  29073\n",
      "q'_1:  15442.52380952381\n",
      "q'_2:  17972\n",
      "eps  0.032142857142857154\n",
      "delta  1e-10\n",
      "q_1:  40306.96\n",
      "q_2:  21197\n",
      "q'_1:  10177.095238095239\n",
      "q'_2:  13066\n",
      "eps  0.02535714285714287\n",
      "delta  1e-10\n",
      "q_1:  38744.60307692308\n",
      "q_2:  15812\n",
      "q'_1:  9857.619047619048\n",
      "q'_2:  11143\n",
      "eps  0.018571428571428572\n",
      "delta  1e-10\n",
      "q_1:  3751.7876923076924\n",
      "q_2:  5724\n",
      "q'_1:  132.47619047619048\n",
      "q'_2:  294\n",
      "eps  0.011785714285714288\n",
      "delta  1e-10\n",
      "q_1:  248.9476923076923\n",
      "q_2:  3519\n",
      "q'_1:  3.0952380952380953\n",
      "q'_2:  14\n",
      "eps  0.005\n",
      "delta  1e-10\n",
      "q_1:  0.0\n",
      "q_2:  0\n",
      "q'_1:  0.0\n",
      "q'_2:  0\n"
     ]
    },
    {
     "data": {
      "image/png": "[encoded data removed]",
      "text/plain": [
       "<Figure size 432x288 with 1 Axes>"
      ]
     },
     "metadata": {
      "needs_background": "light"
     },
     "output_type": "display_data"
    }
   ],
   "source": [
    "x = np.linspace(5*1e-3, 1e-1, num=15)\n",
    "qq_1 = []\n",
    "qq_2 = []\n",
    "qprime_1 = []\n",
    "qprime_2 = []\n",
    "for eps in x:\n",
    "    a, b, c, d = analyze(filepath, true_freq, eps, delta=1e-10)\n",
    "    qq_1.append(a)\n",
    "    qq_2.append(b)\n",
    "    qprime_1.append(c)\n",
    "    qprime_2.append(d)\n",
    "\n"
   ]
  },
  {
   "cell_type": "code",
   "execution_count": 84,
   "metadata": {},
   "outputs": [
    {
     "data": {
      "image/png": "[encoded data removed]",
      "text/plain": [
       "<Figure size 432x288 with 1 Axes>"
      ]
     },
     "metadata": {
      "needs_background": "light"
     },
     "output_type": "display_data"
    }
   ],
   "source": [
    "plt.plot(x, qq_1, label='q_1')\n",
    "plt.plot(x, qq_2, label='q_2')\n",
    "plt.plot(x, qprime_1, label=\"q'_1\")\n",
    "plt.plot(x, qprime_2, label=\"q'_2\")\n",
    "\n",
    "plt.yscale('log')\n",
    "\n",
    "plt.xlabel('epsilon')\n",
    "plt.legend()\n",
    "plt.show()"
   ]
  },
  {
   "cell_type": "code",
   "execution_count": null,
   "metadata": {},
   "outputs": [],
   "source": []
  }
 ],
 "metadata": {
  "kernelspec": {
   "display_name": "Python 3",
   "language": "python",
   "name": "python3"
  },
  "language_info": {
   "codemirror_mode": {
    "name": "ipython",
    "version": 3
   },
   "file_extension": ".py",
   "mimetype": "text/x-python",
   "name": "python",
   "nbconvert_exporter": "python",
   "pygments_lexer": "ipython3",
   "version": "3.5.3"
  }
 },
 "nbformat": 4,
 "nbformat_minor": 2
}
